{
  "nbformat": 4,
  "nbformat_minor": 0,
  "metadata": {
    "colab": {
      "provenance": []
    },
    "kernelspec": {
      "name": "python3",
      "display_name": "Python 3"
    },
    "language_info": {
      "name": "python"
    }
  },
  "cells": [
    {
      "cell_type": "markdown",
      "source": [
        "### Processing of the [CodeXGLUE](https://github.com/microsoft/CodeXGLUE/blob/main/Code-Code/CodeCompletion-line/dataset/py150/line_completion/test.json) test file.\n",
        "\n",
        "Because the answers for this test file are not given, I take the last line as the test one. Then, I save the inputs and the answers in two separate json files."
      ],
      "metadata": {
        "id": "1VxFp80ikNyG"
      }
    },
    {
      "cell_type": "code",
      "execution_count": 1,
      "metadata": {
        "id": "OGduWpBqiNuW"
      },
      "outputs": [],
      "source": [
        "import json"
      ]
    },
    {
      "cell_type": "code",
      "source": [
        "def process_file(input_file: str,\n",
        "                 output_file: str,\n",
        "                 output_answers_file: str) -> str:\n",
        "\n",
        "    \"\"\" Processing of the Python test set \"\"\"\n",
        "\n",
        "    data = []\n",
        "    with open(input_file, 'r') as i_file:\n",
        "        for line in i_file:\n",
        "            try:\n",
        "                data.append(json.loads(line))\n",
        "            except json.JSONDecodeError as e:\n",
        "                print(f\"Error decoding JSON: {e}\")\n",
        "                continue\n",
        "\n",
        "    answers = []\n",
        "    with open(output_file, 'w') as o_file:\n",
        "        for entry in data:\n",
        "            parts = entry['input'].split('<EOL>')\n",
        "\n",
        "            # Check if there are at least two parts\n",
        "            if len(parts) > 1:\n",
        "                answers.append({'gt':parts.pop().strip()})\n",
        "                entry['input'] = '<EOL>'.join(parts).strip()\n",
        "\n",
        "                json.dump(entry, o_file)\n",
        "                o_file.write('\\n')\n",
        "\n",
        "    with open(output_answers_file, 'w') as a_file:\n",
        "        for entry in answers:\n",
        "            json.dump(entry, a_file)\n",
        "            a_file.write('\\n')"
      ],
      "metadata": {
        "id": "tuVWnhhlkNF0"
      },
      "execution_count": 6,
      "outputs": []
    },
    {
      "cell_type": "code",
      "source": [
        "process_file(input_file=\"/content/CodeXGLUE_test.json\",\n",
        "             output_file=\"/content/CodeXGLUE_test_processed.json\",\n",
        "             output_answers_file=\"/content/CodeXGLUE_test_answers.json\")"
      ],
      "metadata": {
        "id": "SOFDhf8MlC6F"
      },
      "execution_count": 7,
      "outputs": []
    }
  ]
}